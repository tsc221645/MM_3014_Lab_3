{
 "cells": [
  {
   "cell_type": "markdown",
   "metadata": {},
   "source": [
    "# Laboratorio 3 - Variable Aleatoria"
   ]
  },
  {
   "cell_type": "markdown",
   "metadata": {},
   "source": [
    "### Integrantes:\n",
    "Eliazar Canastuj, Abby Donis, Melisa Mendizabal 23778, Jorge Gabriel Palacios, Diego Sandoval, Ana Laura Tschen 221645,"
   ]
  },
  {
   "cell_type": "markdown",
   "metadata": {},
   "source": [
    "### Problema 0\n",
    "Sea X1 una variable aleatoria distribuida uniformemente en {1,2,3,4,5,6,7,8} , Sea X2 una variable aleatoria uniforme en $(8,10)$ y X3 = {X1 con probabilidad 3/4, X2 con probabilidad 1/4}"
   ]
  },
  {
   "cell_type": "markdown",
   "metadata": {},
   "source": [
    "Encontrar: a) P([X1=2]), b) P([X1>2]), c) P([X1<2]), d) FUncion de probabilidad para P([X1=i]) para i pertenece a {1,2,3,4,5,6,7,8}, Funciond e distribucion acumulada para $F_{X1}$, f) P([X2=9]), g) P([X2>9]), h) P([X2<9]), i) Funcion de densidad de probabilidad $f_{X2}$, j) Funcion de distribucion acumulada $F_{X2}$, Funcionde distribucion acumulada F_{X3}$, l) P([X3=8]), m) P([X3>8]), n) P([X3<8])"
   ]
  },
  {
   "cell_type": "code",
   "execution_count": 4,
   "metadata": {},
   "outputs": [],
   "source": [
    "from sympy.stats import P, FiniteRV, density, ContinuousRV, cdf\n",
    "from sympy import Piecewise, Symbol"
   ]
  },
  {
   "cell_type": "code",
   "execution_count": 5,
   "metadata": {},
   "outputs": [],
   "source": [
    "x = Symbol('x')\n",
    "X1 = FiniteRV('X1', {1:0.125, 2:0.125, 3:0.125, 4:0.125, 5:0.125, 6:0.125, 7:0.125, 8:0.125})\n",
    "X2 = ContinuousRV(Symbol('X2'), Piecewise((0.5,(x>8) & (x<10)),(0,True)))"
   ]
  },
  {
   "cell_type": "code",
   "execution_count": 6,
   "metadata": {},
   "outputs": [
    {
     "name": "stdout",
     "output_type": "stream",
     "text": [
      "P([X1=2]) =  0.125000000000000\n"
     ]
    }
   ],
   "source": [
    "#a) P([X1=2])\n",
    "prob_x = density(X1)\n",
    "prob_equal_2 = prob_x[2]\n",
    "print(\"P([X1=2]) = \", prob_equal_2)"
   ]
  },
  {
   "cell_type": "code",
   "execution_count": 7,
   "metadata": {},
   "outputs": [
    {
     "name": "stdout",
     "output_type": "stream",
     "text": [
      "P([X1>2]) = 0.750000000000000\n"
     ]
    }
   ],
   "source": [
    "# b) P([X1>2]) = P(X1=3)+P(X1=4)+P(X1=5)+P(X1=6)+P(X1=7)+P(X1=8)\n",
    "probX1_moreThan_2 = P(X1>2)\n",
    "print(\"P([X1>2]) =\", probX1_moreThan_2)"
   ]
  },
  {
   "cell_type": "code",
   "execution_count": 8,
   "metadata": {},
   "outputs": [
    {
     "name": "stdout",
     "output_type": "stream",
     "text": [
      "P(X1 =  1 ) =  0.125000000000000\n",
      "P(X1 =  2 ) =  0.125000000000000\n",
      "P(X1 =  3 ) =  0.125000000000000\n",
      "P(X1 =  4 ) =  0.125000000000000\n",
      "P(X1 =  5 ) =  0.125000000000000\n",
      "P(X1 =  6 ) =  0.125000000000000\n",
      "P(X1 =  7 ) =  0.125000000000000\n",
      "P(X1 =  8 ) =  0.125000000000000\n"
     ]
    }
   ],
   "source": [
    "# d) Función de probabilidad P([X1=i]) para i pertenece {1,2,3,4,5,6,7,8}\n",
    "#P(X1 =i)= 1/8,∀i∈{1,2,3,4,5,6,7,8}\n",
    "\n",
    "for i in range(1,9):\n",
    "    print(\"P(X1 = \",i,\") = \", prob_x[i])"
   ]
  },
  {
   "cell_type": "code",
   "execution_count": 9,
   "metadata": {},
   "outputs": [
    {
     "name": "stdout",
     "output_type": "stream",
     "text": [
      "FX1(x) = {1: 0.125000000000000, 2: 0.250000000000000, 3: 0.375000000000000, 4: 0.500000000000000, 5: 0.625000000000000, 6: 0.750000000000000, 7: 0.875000000000000, 8: 1.00000000000000}\n"
     ]
    }
   ],
   "source": [
    "# e) FX1(x)=P(X1<=x) -> cdf\n",
    "print(\"FX1(x) =\", cdf(X1))\n"
   ]
  },
  {
   "cell_type": "code",
   "execution_count": 10,
   "metadata": {},
   "outputs": [
    {
     "name": "stdout",
     "output_type": "stream",
     "text": [
      "P([X1>2]) = 0\n"
     ]
    }
   ],
   "source": [
    "# f) P([X2=9]) = 0\n",
    "#En distribuciones continuas, la probabilidad de un punto específico es cero.\n",
    "probX2_equal_2 = P(X1==2)\n",
    "print(\"P([X1>2]) =\", probX2_equal_2)"
   ]
  },
  {
   "cell_type": "code",
   "execution_count": 11,
   "metadata": {},
   "outputs": [
    {
     "name": "stdout",
     "output_type": "stream",
     "text": [
      "P(X2 > 9) = Piecewise((oo, (x > 8) & (x < 10)), (0, True))\n"
     ]
    }
   ],
   "source": [
    "#g) P([X2>9])\n",
    "X2 = ContinuousRV(Symbol('X2'), Piecewise((0.5,(x>8) & (x<10)),(0,True)))\n",
    "p_X2_greater_9 = P(X2 > 9)\n",
    "print(\"P(X2 > 9) =\", p_X2_greater_9)\n"
   ]
  },
  {
   "cell_type": "code",
   "execution_count": null,
   "metadata": {},
   "outputs": [],
   "source": [
    "#h) P([X2<9])\n",
    "p_X2_less_9 = P(X2 < 9)\n",
    "print(\"P(X2 < 9) =\", p_X2_less_9)"
   ]
  }
 ],
 "metadata": {
  "kernelspec": {
   "display_name": "Python 3",
   "language": "python",
   "name": "python3"
  },
  "language_info": {
   "codemirror_mode": {
    "name": "ipython",
    "version": 3
   },
   "file_extension": ".py",
   "mimetype": "text/x-python",
   "name": "python",
   "nbconvert_exporter": "python",
   "pygments_lexer": "ipython3",
   "version": "3.13.1"
  }
 },
 "nbformat": 4,
 "nbformat_minor": 4
}
