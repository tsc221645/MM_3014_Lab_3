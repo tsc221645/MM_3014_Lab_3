{
 "cells": [
  {
   "cell_type": "markdown",
   "metadata": {},
   "source": [
    "# Laboratorio 3 - Variable Aleatoria"
   ]
  },
  {
   "cell_type": "markdown",
   "metadata": {},
   "source": []
  },
  {
   "cell_type": "markdown",
   "metadata": {},
   "source": [
    "### Integrantes:\n",
    "Eliazar Canastuj, Abby Donis, Melisa Mendizabal, Jorge Gabriel Palacios, Diego Sandoval, Ana Laura Tschen 221645,"
   ]
  },
  {
   "cell_type": "markdown",
   "metadata": {},
   "source": [
    "### Problema 0\n",
    "Sea X1 una variable aleatoria distribuida uniformemente en {1,2,3,4,5,6,7,8} , Sea X2 una variable aleatoria uniforme en $(8,10)$ y X3 = {X1 con probabilidad 3/4, X2 con probabilidad 1/4}"
   ]
  },
  {
   "cell_type": "markdown",
   "metadata": {},
   "source": [
    "Encontrar: a) P([X1=2]), b) P([X1>2]), c) P([X1<2]), d) FUncion de probabilidad para P([X1=i]) para i pertenece a {1,2,3,4,5,6,7,8}, Funciond e distribucion acumulada para $F_{X1}$, f) P([X2=9]), g) P([X2>9]), h) P([X2<9]), i) Funcion de densidad de probabilidad $f_{X2}$, j) Funcion de distribucion acumulada $F_{X2}$, Funcionde distribucion acumulada F_{X3}$, l) P([X3=8]), m) P([X3>8]), n) P([X3<8])"
   ]
  },
  {
   "cell_type": "code",
   "execution_count": null,
   "metadata": {},
   "outputs": [],
   "source": []
  },
  {
   "cell_type": "markdown",
   "metadata": {},
   "source": []
  }
 ],
 "metadata": {
  "kernelspec": {
   "display_name": "Python 3",
   "language": "python",
   "name": "python3"
  },
  "language_info": {
   "name": "python",
   "version": "3.13.1"
  }
 },
 "nbformat": 4,
 "nbformat_minor": 2
}
