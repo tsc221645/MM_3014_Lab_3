{
 "cells": [
  {
   "cell_type": "markdown",
   "metadata": {},
   "source": [
    "# Laboratorio 3 - Variable Aleatoria"
   ]
  },
  {
   "cell_type": "markdown",
   "metadata": {},
   "source": [
    "### Integrantes:\n",
    "Eliazar Canastuj, Abby Donis, Melisa Mendizabal, Jorge Gabriel Palacios, Diego Sandoval, Ana Laura Tschen 221645,"
   ]
  },
  {
   "cell_type": "markdown",
   "metadata": {},
   "source": [
    "### Problema 0\n",
    "Sea X1 una variable aleatoria distribuida uniformemente en {1,2,3,4,5,6,7,8} , Sea X2 una variable aleatoria uniforme en $(8,10)$ y X3 = {X1 con probabilidad 3/4, X2 con probabilidad 1/4}"
   ]
  },
  {
   "cell_type": "markdown",
   "metadata": {},
   "source": [
    "Encontrar: a) P([X1=2]), b) P([X1>2]), c) P([X1<2]), d) FUncion de probabilidad para P([X1=i]) para i pertenece a {1,2,3,4,5,6,7,8}, Funciond e distribucion acumulada para $F_{X1}$, f) P([X2=9]), g) P([X2>9]), h) P([X2<9]), i) Funcion de densidad de probabilidad $f_{X2}$, j) Funcion de distribucion acumulada $F_{X2}$, Funcionde distribucion acumulada F_{X3}$, l) P([X3=8]), m) P([X3>8]), n) P([X3<8])"
   ]
  },
  {
   "cell_type": "code",
   "execution_count": 7,
   "metadata": {},
   "outputs": [],
   "source": [
    "from sympy.stats import P, FiniteRV, density\n",
    "from sympy import S"
   ]
  },
  {
   "cell_type": "code",
   "execution_count": 9,
   "metadata": {},
   "outputs": [],
   "source": [
    "X1 = FiniteRV('X1', {1:0.125, 2:0.125, 3:0.125, 4:0.125, 5:0.125, 6:0.125, 7:0.125, 8:0.125})\n",
    "X2 = FiniteRV('X2',{8:0.33, 9:0.33 , 10:0.33})\n",
    "X3 = FiniteRV('X3', {X1: S(3)/4, X2: S(1)/4})"
   ]
  },
  {
   "cell_type": "code",
   "execution_count": 13,
   "metadata": {},
   "outputs": [
    {
     "name": "stdout",
     "output_type": "stream",
     "text": [
      "0.750000000000000\n"
     ]
    }
   ],
   "source": [
    "# b) P([X1>2]) = P(X1=3)+P(X1=4)+P(X1=5)+P(X1=6)+P(X1=7)+P(X1=8)\n",
    "probX1_moreThan_2 = P(X1>2)\n",
    "print(probX1_moreThan_2)"
   ]
  },
  {
   "cell_type": "code",
   "execution_count": null,
   "metadata": {},
   "outputs": [],
   "source": []
  }
 ],
 "metadata": {
  "kernelspec": {
   "display_name": "Python 3 (ipykernel)",
   "language": "python",
   "name": "python3"
  },
  "language_info": {
   "codemirror_mode": {
    "name": "ipython",
    "version": 3
   },
   "file_extension": ".py",
   "mimetype": "text/x-python",
   "name": "python",
   "nbconvert_exporter": "python",
   "pygments_lexer": "ipython3",
   "version": "3.12.7"
  }
 },
 "nbformat": 4,
 "nbformat_minor": 4
}
